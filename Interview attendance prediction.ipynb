{
 "cells": [
  {
   "cell_type": "code",
   "execution_count": 1,
   "metadata": {},
   "outputs": [],
   "source": [
    "import pandas as pd\n",
    "import numpy as np"
   ]
  },
  {
   "cell_type": "code",
   "execution_count": 2,
   "metadata": {},
   "outputs": [],
   "source": [
    "df=pd.read_csv(\"c:/Users/Subham/mycodes/datasets/Interview.csv\")"
   ]
  },
  {
   "cell_type": "code",
   "execution_count": 3,
   "metadata": {},
   "outputs": [],
   "source": [
    "newcols={\"Date of Interview\":\"DoI\", \n",
    "         \"Client name\":\"Name\",\n",
    "         \"Position to be closed\":\"Position\", \n",
    "         \"Nature of Skillset\":\"Skillset\",\n",
    "         \"Name(Cand ID)\":\"ID\",\n",
    "         \"Nature of Skillset\":\"NatureSkillset\",\n",
    "         \"Interview Type\":\"InterviewType\",\n",
    "         \"Candidate Current Location\": \"CL\",\n",
    "         \"Candidate Job Location\":\"JL\",\n",
    "         \"Interview Venue\":\"Venue\",\n",
    "         \"Candidate Native location\":\"NativeLocation\",\n",
    "         \"Have you obtained the necessary permission to start at the required time\":\"Permissiontostart\",\n",
    "         \"Hope there will be no unscheduled meetings\":\"UnscheduleMeetings\",\n",
    "         \"Can I Call you three hours before the interview and follow up on your attendance for the interview\":\"WalkinInterview\",\n",
    "         \"Can I have an alternative number/ desk number. I assure you that I will not trouble you too much\":\"AllContacts\",\n",
    "         \"Have you taken a printout of your updated resume. Have you read the JD and understood the same\":\"RequiredMaterials\",\n",
    "         \"Expected Attendance\":\"EA\",\n",
    "         \"Observed Attendance\":\"OA\",\n",
    "         \"Are you clear with the venue details and the landmark.\":\"ClearInfo\",\n",
    "         \"Has the call letter been shared\":\"CallLetter\",\n",
    "         \"Marital Status\":\"MS\"}\n",
    "df.rename(columns=newcols,inplace=True)"
   ]
  },
  {
   "cell_type": "code",
   "execution_count": 4,
   "metadata": {},
   "outputs": [],
   "source": [
    "df1=df.drop([\"DoI\",\"ID\",\"NatureSkillset\",\"EA\",'Unnamed: 23','Unnamed: 24','Unnamed: 25','Unnamed: 26','Unnamed: 27'],axis=1)"
   ]
  },
  {
   "cell_type": "code",
   "execution_count": 5,
   "metadata": {},
   "outputs": [
    {
     "data": {
      "text/plain": [
       "Name                    0\n",
       "Industry                1\n",
       "Location                1\n",
       "Position                1\n",
       "InterviewType           1\n",
       "Gender                  1\n",
       "CL                      1\n",
       "JL                      1\n",
       "Venue                   1\n",
       "NativeLocation          1\n",
       "Permissiontostart     205\n",
       "UnscheduleMeetings    248\n",
       "WalkinInterview       248\n",
       "AllContacts           248\n",
       "RequiredMaterials     249\n",
       "ClearInfo             249\n",
       "CallLetter            246\n",
       "OA                      1\n",
       "MS                      1\n",
       "dtype: int64"
      ]
     },
     "execution_count": 5,
     "metadata": {},
     "output_type": "execute_result"
    }
   ],
   "source": [
    "df1.dropna(how=\"all\",inplace=True)\n",
    "df1.isnull().sum()"
   ]
  },
  {
   "cell_type": "markdown",
   "metadata": {},
   "source": [
    "##### Industry"
   ]
  },
  {
   "cell_type": "code",
   "execution_count": 6,
   "metadata": {
    "scrolled": true
   },
   "outputs": [],
   "source": [
    "df1.dropna(subset=['Industry', 'Location', 'Position', 'InterviewType', 'Gender',\n",
    "       'CL', 'JL', 'Venue', 'NativeLocation', 'Permissiontostart',\n",
    "       'UnscheduleMeetings', 'WalkinInterview', 'AllContacts',\n",
    "       'RequiredMaterials', 'ClearInfo', 'CallLetter', 'OA', 'MS'],how=\"all\",inplace=True)"
   ]
  },
  {
   "cell_type": "code",
   "execution_count": 7,
   "metadata": {},
   "outputs": [
    {
     "data": {
      "text/plain": [
       "Name                    0\n",
       "Industry                0\n",
       "Location                0\n",
       "Position                0\n",
       "InterviewType           0\n",
       "Gender                  0\n",
       "CL                      0\n",
       "JL                      0\n",
       "Venue                   0\n",
       "NativeLocation          0\n",
       "Permissiontostart     204\n",
       "UnscheduleMeetings    247\n",
       "WalkinInterview       247\n",
       "AllContacts           247\n",
       "RequiredMaterials     248\n",
       "ClearInfo             248\n",
       "CallLetter            245\n",
       "OA                      0\n",
       "MS                      0\n",
       "dtype: int64"
      ]
     },
     "execution_count": 7,
     "metadata": {},
     "output_type": "execute_result"
    }
   ],
   "source": [
    "df1.isnull().sum()"
   ]
  },
  {
   "cell_type": "code",
   "execution_count": 8,
   "metadata": {},
   "outputs": [],
   "source": [
    "# Permissiontostart     204 done\n",
    "# UnscheduleMeetings    247 done\n",
    "# WalkinInterview       247 done\n",
    "# AllContacts           247 done\n",
    "# RequiredMaterials     248 done\n",
    "# ClearInfo             248 done\n",
    "# CallLetter            245 \n",
    "# EA                      5"
   ]
  },
  {
   "cell_type": "code",
   "execution_count": 9,
   "metadata": {},
   "outputs": [
    {
     "data": {
      "text/plain": [
       "yes               921\n",
       "NaN               204\n",
       "no                 80\n",
       "not yet            19\n",
       "na                  5\n",
       "yet to confirm      4\n",
       "Name: Permissiontostart, dtype: int64"
      ]
     },
     "execution_count": 9,
     "metadata": {},
     "output_type": "execute_result"
    }
   ],
   "source": [
    "df1[\"Permissiontostart\"]=df1.Permissiontostart.str.lower()\n",
    "df1.Permissiontostart.value_counts(dropna=False)"
   ]
  },
  {
   "cell_type": "code",
   "execution_count": 10,
   "metadata": {},
   "outputs": [
    {
     "data": {
      "text/plain": [
       "yes    783\n",
       "no     450\n",
       "Name: OA, dtype: int64"
      ]
     },
     "execution_count": 10,
     "metadata": {},
     "output_type": "execute_result"
    }
   ],
   "source": [
    "df1.OA=df1.OA.str.lower()\n",
    "df1.OA=df1.OA.str.strip()\n",
    "df1.OA.value_counts()"
   ]
  },
  {
   "cell_type": "code",
   "execution_count": 11,
   "metadata": {},
   "outputs": [
    {
     "name": "stderr",
     "output_type": "stream",
     "text": [
      "E:\\ANACONDA\\lib\\site-packages\\ipykernel_launcher.py:1: UserWarning: Boolean Series key will be reindexed to match DataFrame index.\n",
      "  \"\"\"Entry point for launching an IPython kernel.\n"
     ]
    },
    {
     "data": {
      "text/plain": [
       "101"
      ]
     },
     "execution_count": 11,
     "metadata": {},
     "output_type": "execute_result"
    }
   ],
   "source": [
    "df1[df1.Permissiontostart.isnull()][df1.OA==\"no\"].shape[0]"
   ]
  },
  {
   "cell_type": "code",
   "execution_count": 12,
   "metadata": {},
   "outputs": [
    {
     "data": {
      "text/plain": [
       "204"
      ]
     },
     "execution_count": 12,
     "metadata": {},
     "output_type": "execute_result"
    }
   ],
   "source": [
    "df1[df1.Permissiontostart.isnull()].shape[0]"
   ]
  },
  {
   "cell_type": "code",
   "execution_count": 13,
   "metadata": {},
   "outputs": [
    {
     "name": "stderr",
     "output_type": "stream",
     "text": [
      "E:\\ANACONDA\\lib\\site-packages\\ipykernel_launcher.py:1: UserWarning: Boolean Series key will be reindexed to match DataFrame index.\n",
      "  \"\"\"Entry point for launching an IPython kernel.\n"
     ]
    },
    {
     "data": {
      "text/plain": [
       "103"
      ]
     },
     "execution_count": 13,
     "metadata": {},
     "output_type": "execute_result"
    }
   ],
   "source": [
    "df1[df1.Permissiontostart.isnull()][df1.OA==\"yes\"].shape[0]"
   ]
  },
  {
   "cell_type": "code",
   "execution_count": 14,
   "metadata": {},
   "outputs": [
    {
     "data": {
      "text/plain": [
       "yes               921\n",
       "NaN               204\n",
       "no                 80\n",
       "not yet            19\n",
       "na                  5\n",
       "yet to confirm      4\n",
       "Name: Permissiontostart, dtype: int64"
      ]
     },
     "execution_count": 14,
     "metadata": {},
     "output_type": "execute_result"
    }
   ],
   "source": [
    "df1.Permissiontostart.value_counts(dropna=False)"
   ]
  },
  {
   "cell_type": "code",
   "execution_count": 15,
   "metadata": {
    "scrolled": true
   },
   "outputs": [
    {
     "data": {
      "text/html": [
       "<div>\n",
       "<style scoped>\n",
       "    .dataframe tbody tr th:only-of-type {\n",
       "        vertical-align: middle;\n",
       "    }\n",
       "\n",
       "    .dataframe tbody tr th {\n",
       "        vertical-align: top;\n",
       "    }\n",
       "\n",
       "    .dataframe thead th {\n",
       "        text-align: right;\n",
       "    }\n",
       "</style>\n",
       "<table border=\"1\" class=\"dataframe\">\n",
       "  <thead>\n",
       "    <tr style=\"text-align: right;\">\n",
       "      <th></th>\n",
       "      <th>Permissiontostart</th>\n",
       "      <th>OA</th>\n",
       "    </tr>\n",
       "  </thead>\n",
       "  <tbody>\n",
       "    <tr>\n",
       "      <th>0</th>\n",
       "      <td>yes</td>\n",
       "      <td>no</td>\n",
       "    </tr>\n",
       "    <tr>\n",
       "      <th>1</th>\n",
       "      <td>yes</td>\n",
       "      <td>no</td>\n",
       "    </tr>\n",
       "    <tr>\n",
       "      <th>2</th>\n",
       "      <td>NaN</td>\n",
       "      <td>no</td>\n",
       "    </tr>\n",
       "    <tr>\n",
       "      <th>3</th>\n",
       "      <td>yes</td>\n",
       "      <td>no</td>\n",
       "    </tr>\n",
       "    <tr>\n",
       "      <th>4</th>\n",
       "      <td>yes</td>\n",
       "      <td>no</td>\n",
       "    </tr>\n",
       "  </tbody>\n",
       "</table>\n",
       "</div>"
      ],
      "text/plain": [
       "  Permissiontostart  OA\n",
       "0               yes  no\n",
       "1               yes  no\n",
       "2               NaN  no\n",
       "3               yes  no\n",
       "4               yes  no"
      ]
     },
     "execution_count": 15,
     "metadata": {},
     "output_type": "execute_result"
    }
   ],
   "source": [
    "xdf=df1[[\"Permissiontostart\",\"OA\"]]\n",
    "xdf.head()"
   ]
  },
  {
   "cell_type": "code",
   "execution_count": 16,
   "metadata": {},
   "outputs": [
    {
     "name": "stderr",
     "output_type": "stream",
     "text": [
      "E:\\ANACONDA\\lib\\site-packages\\IPython\\core\\interactiveshell.py:3296: SettingWithCopyWarning: \n",
      "A value is trying to be set on a copy of a slice from a DataFrame\n",
      "\n",
      "See the caveats in the documentation: http://pandas.pydata.org/pandas-docs/stable/indexing.html#indexing-view-versus-copy\n",
      "  exec(code_obj, self.user_global_ns, self.user_ns)\n"
     ]
    }
   ],
   "source": [
    "for index,(ps,oa) in xdf.iterrows():\n",
    "    if ps is np.NaN:\n",
    "#         print(\"inside\")\n",
    "        if oa==\"yes\" :\n",
    "            xdf[\"Permissiontostart\"][index]=\"yes\"\n",
    "        else:\n",
    "            xdf[\"Permissiontostart\"][index]=\"no\"            "
   ]
  },
  {
   "cell_type": "code",
   "execution_count": 17,
   "metadata": {},
   "outputs": [
    {
     "data": {
      "text/plain": [
       "yes               1024\n",
       "no                 181\n",
       "not yet             19\n",
       "na                   5\n",
       "yet to confirm       4\n",
       "Name: Permissiontostart, dtype: int64"
      ]
     },
     "execution_count": 17,
     "metadata": {},
     "output_type": "execute_result"
    }
   ],
   "source": [
    "xdf.Permissiontostart.value_counts(dropna=False)\n",
    "df1[\"Permissiontostart\"]=xdf[\"Permissiontostart\"]\n",
    "df1.Permissiontostart.value_counts()"
   ]
  },
  {
   "cell_type": "code",
   "execution_count": 18,
   "metadata": {},
   "outputs": [
    {
     "data": {
      "text/plain": [
       "Name                    0\n",
       "Industry                0\n",
       "Location                0\n",
       "Position                0\n",
       "InterviewType           0\n",
       "Gender                  0\n",
       "CL                      0\n",
       "JL                      0\n",
       "Venue                   0\n",
       "NativeLocation          0\n",
       "Permissiontostart       0\n",
       "UnscheduleMeetings    247\n",
       "WalkinInterview       247\n",
       "AllContacts           247\n",
       "RequiredMaterials     248\n",
       "ClearInfo             248\n",
       "CallLetter            245\n",
       "OA                      0\n",
       "MS                      0\n",
       "dtype: int64"
      ]
     },
     "execution_count": 18,
     "metadata": {},
     "output_type": "execute_result"
    }
   ],
   "source": [
    "df1.isnull().sum()"
   ]
  },
  {
   "cell_type": "code",
   "execution_count": 19,
   "metadata": {},
   "outputs": [
    {
     "data": {
      "text/plain": [
       "yes               1024\n",
       "no                 181\n",
       "not yet             19\n",
       "na                   5\n",
       "yet to confirm       4\n",
       "Name: Permissiontostart, dtype: int64"
      ]
     },
     "execution_count": 19,
     "metadata": {},
     "output_type": "execute_result"
    }
   ],
   "source": [
    "xdf=df1[[\"Permissiontostart\",\"OA\"]]\n",
    "\n",
    "for index,(ps,oa) in xdf.iterrows():\n",
    "    if ps is np.NaN:\n",
    "#         print(\"inside\")\n",
    "        if oa==\"yes\" :\n",
    "            xdf[\"Permissiontostart\"][index]=\"yes\"\n",
    "        else:\n",
    "            xdf[\"Permissiontostart\"][index]=\"no\"       \n",
    "\n",
    "df1[\"Permissiontostart\"]=xdf[\"Permissiontostart\"]\n",
    "df1.Permissiontostart.value_counts()"
   ]
  },
  {
   "cell_type": "code",
   "execution_count": 20,
   "metadata": {},
   "outputs": [
    {
     "data": {
      "text/plain": [
       "Yes         949\n",
       "no          141\n",
       "yes         111\n",
       "Na           20\n",
       "No            6\n",
       "Not sure      4\n",
       "Not Sure      1\n",
       "cant Say      1\n",
       "Name: UnscheduleMeetings, dtype: int64"
      ]
     },
     "execution_count": 20,
     "metadata": {},
     "output_type": "execute_result"
    }
   ],
   "source": [
    "xdf=df1[[\"UnscheduleMeetings\",\"OA\"]]\n",
    "\n",
    "for index,(ps,oa) in xdf.iterrows():\n",
    "    if ps is np.NaN:\n",
    "#         print(\"inside\")\n",
    "        if oa==\"yes\" :\n",
    "            xdf[\"UnscheduleMeetings\"][index]=\"yes\"\n",
    "        else:\n",
    "            xdf[\"UnscheduleMeetings\"][index]=\"no\"       \n",
    "\n",
    "df1[\"UnscheduleMeetings\"]=xdf[\"UnscheduleMeetings\"]\n",
    "df1.UnscheduleMeetings.value_counts()"
   ]
  },
  {
   "cell_type": "code",
   "execution_count": 21,
   "metadata": {},
   "outputs": [
    {
     "data": {
      "text/plain": [
       "Yes        951\n",
       "no         141\n",
       "yes        110\n",
       "Na          20\n",
       "No          10\n",
       "No Dont      1\n",
       "Name: WalkinInterview, dtype: int64"
      ]
     },
     "execution_count": 21,
     "metadata": {},
     "output_type": "execute_result"
    }
   ],
   "source": [
    " xdf=df1[[\"WalkinInterview\",\"OA\"]]\n",
    "\n",
    "for index,(ps,oa) in xdf.iterrows():\n",
    "    if ps is np.NaN:\n",
    "#         print(\"inside\")\n",
    "        if oa==\"yes\" :\n",
    "            xdf[\"WalkinInterview\"][index]=\"yes\"\n",
    "        else:\n",
    "            xdf[\"WalkinInterview\"][index]=\"no\"       \n",
    "\n",
    "df1[\"WalkinInterview\"]=xdf[\"WalkinInterview\"]\n",
    "df1.WalkinInterview.value_counts()"
   ]
  },
  {
   "cell_type": "code",
   "execution_count": 22,
   "metadata": {},
   "outputs": [
    {
     "data": {
      "text/plain": [
       "Yes                          936\n",
       "no                           141\n",
       "yes                          107\n",
       "No                            27\n",
       "Na                            19\n",
       "No I have only thi number      2\n",
       "na                             1\n",
       "Name: AllContacts, dtype: int64"
      ]
     },
     "execution_count": 22,
     "metadata": {},
     "output_type": "execute_result"
    }
   ],
   "source": [
    " xdf=df1[[\"AllContacts\",\"OA\"]]\n",
    "\n",
    "for index,(ps,oa) in xdf.iterrows():\n",
    "    if ps is np.NaN:\n",
    "#         print(\"inside\")\n",
    "        if oa==\"yes\" :\n",
    "            xdf[\"AllContacts\"][index]=\"yes\"\n",
    "        else:\n",
    "            xdf[\"AllContacts\"][index]=\"no\"       \n",
    "\n",
    "df1[\"AllContacts\"]=xdf[\"AllContacts\"]\n",
    "df1.AllContacts.value_counts()"
   ]
  },
  {
   "cell_type": "code",
   "execution_count": 23,
   "metadata": {},
   "outputs": [
    {
     "data": {
      "text/plain": [
       "Yes                      940\n",
       "no                       141\n",
       "yes                      109\n",
       "Na                        19\n",
       "No                        16\n",
       "Not Yet                    4\n",
       "Not yet                    2\n",
       "na                         1\n",
       "No- will take it soon      1\n",
       "Name: RequiredMaterials, dtype: int64"
      ]
     },
     "execution_count": 23,
     "metadata": {},
     "output_type": "execute_result"
    }
   ],
   "source": [
    " xdf=df1[[\"RequiredMaterials\",\"OA\"]]\n",
    "\n",
    "for index,(ps,oa) in xdf.iterrows():\n",
    "    if ps is np.NaN:\n",
    "#         print(\"inside\")\n",
    "        if oa==\"yes\" :\n",
    "            xdf[\"RequiredMaterials\"][index]=\"yes\"\n",
    "        else:\n",
    "            xdf[\"RequiredMaterials\"][index]=\"no\"       \n",
    "\n",
    "df1[\"RequiredMaterials\"]=xdf[\"RequiredMaterials\"]\n",
    "df1.RequiredMaterials.value_counts()"
   ]
  },
  {
   "cell_type": "code",
   "execution_count": 24,
   "metadata": {},
   "outputs": [
    {
     "data": {
      "text/plain": [
       "Yes                    946\n",
       "no                     142\n",
       "yes                    109\n",
       "Na                      19\n",
       "No                      14\n",
       "No- I need to check      2\n",
       "na                       1\n",
       "Name: ClearInfo, dtype: int64"
      ]
     },
     "execution_count": 24,
     "metadata": {},
     "output_type": "execute_result"
    }
   ],
   "source": [
    " xdf=df1[[\"ClearInfo\",\"OA\"]]\n",
    "\n",
    "for index,(ps,oa) in xdf.iterrows():\n",
    "    if ps is np.NaN:\n",
    "#         print(\"inside\")\n",
    "        if oa==\"yes\" :\n",
    "            xdf[\"ClearInfo\"][index]=\"yes\"\n",
    "        else:\n",
    "            xdf[\"ClearInfo\"][index]=\"no\"       \n",
    "\n",
    "df1[\"ClearInfo\"]=xdf[\"ClearInfo\"]\n",
    "df1.ClearInfo.value_counts()"
   ]
  },
  {
   "cell_type": "code",
   "execution_count": 25,
   "metadata": {},
   "outputs": [
    {
     "data": {
      "text/plain": [
       "Yes               932\n",
       "no                140\n",
       "yes               108\n",
       "Na                 19\n",
       "No                 17\n",
       "Not Sure            8\n",
       "Need To Check       3\n",
       "Not yet             2\n",
       "Not sure            1\n",
       "na                  1\n",
       "Yet to Check        1\n",
       "Havent Checked      1\n",
       "Name: CallLetter, dtype: int64"
      ]
     },
     "execution_count": 25,
     "metadata": {},
     "output_type": "execute_result"
    }
   ],
   "source": [
    " xdf=df1[[\"CallLetter\",\"OA\"]]\n",
    "\n",
    "for index,(ps,oa) in xdf.iterrows():\n",
    "    if ps is np.NaN:\n",
    "#         print(\"inside\")\n",
    "        if oa==\"yes\" :\n",
    "            xdf[\"CallLetter\"][index]=\"yes\"\n",
    "        else:\n",
    "            xdf[\"CallLetter\"][index]=\"no\"       \n",
    "\n",
    "df1[\"CallLetter\"]=xdf[\"CallLetter\"]\n",
    "df1.CallLetter.value_counts()"
   ]
  },
  {
   "cell_type": "code",
   "execution_count": 26,
   "metadata": {},
   "outputs": [
    {
     "data": {
      "text/plain": [
       "Name                  0\n",
       "Industry              0\n",
       "Location              0\n",
       "Position              0\n",
       "InterviewType         0\n",
       "Gender                0\n",
       "CL                    0\n",
       "JL                    0\n",
       "Venue                 0\n",
       "NativeLocation        0\n",
       "Permissiontostart     0\n",
       "UnscheduleMeetings    0\n",
       "WalkinInterview       0\n",
       "AllContacts           0\n",
       "RequiredMaterials     0\n",
       "ClearInfo             0\n",
       "CallLetter            0\n",
       "OA                    0\n",
       "MS                    0\n",
       "dtype: int64"
      ]
     },
     "execution_count": 26,
     "metadata": {},
     "output_type": "execute_result"
    }
   ],
   "source": [
    "df1.isnull().sum()"
   ]
  },
  {
   "cell_type": "code",
   "execution_count": 27,
   "metadata": {},
   "outputs": [
    {
     "name": "stdout",
     "output_type": "stream",
     "text": [
      "Name\n",
      "\n",
      "\n",
      "Hospira > YES %: [46.666666666666664]\n",
      "Aon Hewitt > YES %: [89.28571428571429]\n",
      "UST > YES %: [55.55555555555556]\n",
      "Standard Chartered Bank > YES %: [63.38495575221239]\n",
      "ANZ > YES %: [90.9090909090909]\n",
      "Pfizer > YES %: [68.0]\n",
      "Standard Chartered Bank Chennai > YES %: [58.82352941176471]\n",
      "Aon hewitt Gurgaon > YES %: [100.0]\n",
      "Astrazeneca > YES %: [66.66666666666666]\n",
      "Flextronics > YES %: [65.21739130434783]\n",
      "Prodapt > YES %: [35.294117647058826]\n",
      "Williams Lea > YES %: [72.72727272727273]\n",
      "Barclays > YES %: [100.0]\n",
      "Hewitt > YES %: [60.0]\n",
      "Woori Bank > YES %: [100.0]\n",
      "\n",
      "\n",
      "Industry\n",
      "\n",
      "\n",
      "Pharmaceuticals > YES %: [58.18181818181818]\n",
      "IT Services > YES %: [60.86956521739131]\n",
      "BFSI > YES %: [64.17281348788198]\n",
      "IT Products and Services > YES %: [77.77777777777779]\n",
      "Electronics > YES %: [65.21739130434783]\n",
      "Telecom > YES %: [35.294117647058826]\n",
      "IT > YES %: [72.72727272727273]\n",
      "\n",
      "\n",
      "Location\n",
      "\n",
      "\n",
      "Chennai > YES %: [60.3448275862069]\n",
      "Gurgaon > YES %: [69.6969696969697]\n",
      "Bangalore > YES %: [66.0958904109589]\n",
      "Hyderabad > YES %: [68.42105263157895]\n",
      "Gurgaonr > YES %: [100.0]\n",
      "Delhi > YES %: [100.0]\n",
      "chennai > YES %: [72.09302325581395]\n",
      "- Cochin-  > YES %: [66.66666666666666]\n",
      "Noida > YES %: [93.33333333333333]\n",
      "CHENNAI > YES %: [0.0]\n",
      "chennai  > YES %: [66.66666666666666]\n",
      "\n",
      "\n",
      "Position\n",
      "\n",
      "\n",
      "Production- Sterile > YES %: [0.0]\n",
      "Selenium testing > YES %: [80.0]\n",
      "Dot Net > YES %: [55.55555555555556]\n",
      "AML > YES %: [62.5]\n",
      "Trade Finance > YES %: [63.63636363636363]\n",
      "Routine > YES %: [62.267839687194524]\n",
      "Niche > YES %: [73.61963190184049]\n",
      "\n",
      "\n",
      "InterviewType\n",
      "\n",
      "\n",
      "Scheduled Walkin > YES %: [58.730158730158735]\n",
      "Scheduled  > YES %: [68.73315363881402]\n",
      "Walkin > YES %: [55.026455026455025]\n",
      "Scheduled Walk In > YES %: [64.69298245614034]\n",
      "Sceduled walkin > YES %: [100.0]\n",
      "Walkin  > YES %: [62.96296296296296]\n",
      "\n",
      "\n",
      "Gender\n",
      "\n",
      "\n",
      "Male > YES %: [63.626943005181346]\n",
      "Female > YES %: [63.059701492537314]\n",
      "\n",
      "\n",
      "CL\n",
      "\n",
      "\n",
      "Chennai > YES %: [60.3448275862069]\n",
      "Gurgaon > YES %: [70.58823529411765]\n",
      "Bangalore > YES %: [66.0958904109589]\n",
      "Hyderabad > YES %: [68.42105263157895]\n",
      "Delhi > YES %: [100.0]\n",
      "chennai > YES %: [72.09302325581395]\n",
      "- Cochin-  > YES %: [66.66666666666666]\n",
      "Noida > YES %: [93.33333333333333]\n",
      "CHENNAI > YES %: [0.0]\n",
      "chennai  > YES %: [66.66666666666666]\n",
      "\n",
      "\n",
      "JL\n",
      "\n",
      "\n",
      "Hosur > YES %: [0.0]\n",
      "Bangalore > YES %: [65.63706563706563]\n",
      "Chennai > YES %: [61.81410974244122]\n",
      "Gurgaon > YES %: [71.42857142857143]\n",
      "Visakapatinam > YES %: [76.19047619047619]\n",
      "- Cochin-  > YES %: [66.66666666666666]\n",
      "Noida > YES %: [93.33333333333333]\n",
      "\n",
      "\n",
      "Venue\n",
      "\n",
      "\n",
      "Hosur > YES %: [0.0]\n",
      "Gurgaon > YES %: [71.42857142857143]\n",
      "Bangalore > YES %: [66.06498194945848]\n",
      "Chennai > YES %: [61.85446009389671]\n",
      "Hyderabad > YES %: [70.0]\n",
      "- Cochin-  > YES %: [66.66666666666666]\n",
      "Noida > YES %: [93.33333333333333]\n",
      "\n",
      "\n",
      "NativeLocation\n",
      "\n",
      "\n",
      "Hosur > YES %: [66.66666666666666]\n",
      "Trichy > YES %: [46.15384615384615]\n",
      "Chennai > YES %: [60.0]\n",
      "Gurgaon > YES %: [73.07692307692307]\n",
      "Noida > YES %: [88.23529411764706]\n",
      "Delhi /NCR > YES %: [50.0]\n",
      "Cochin > YES %: [70.83333333333334]\n",
      "Trivandrum > YES %: [57.14285714285714]\n",
      "Bangalore > YES %: [68.87417218543047]\n",
      "Coimbatore > YES %: [71.42857142857143]\n",
      "Salem > YES %: [66.66666666666666]\n",
      "Tanjore > YES %: [100.0]\n",
      "Hyderabad > YES %: [68.02325581395348]\n",
      "Mumbai > YES %: [42.857142857142854]\n",
      "Pune > YES %: [63.63636363636363]\n",
      "Kolkata > YES %: [50.0]\n",
      "Allahabad > YES %: [65.0]\n",
      "Panjim > YES %: [0.0]\n",
      "Cuttack > YES %: [60.0]\n",
      "Visakapatinam > YES %: [62.5]\n",
      "Belgaum > YES %: [0.0]\n",
      "Patna > YES %: [50.0]\n",
      "Chitoor > YES %: [66.66666666666666]\n",
      "Anantapur > YES %: [100.0]\n",
      "Warangal > YES %: [66.66666666666666]\n",
      "Ahmedabad > YES %: [100.0]\n",
      "Kurnool > YES %: [100.0]\n",
      "Vijayawada > YES %: [25.0]\n",
      "Vellore > YES %: [58.333333333333336]\n",
      "Pondicherry > YES %: [80.0]\n",
      "Nagercoil > YES %: [56.25]\n",
      "Agra > YES %: [0.0]\n",
      "Bhubaneshwar > YES %: [0.0]\n",
      "Ghaziabad > YES %: [100.0]\n",
      "Baddi > YES %: [0.0]\n",
      "Tuticorin > YES %: [100.0]\n",
      "Tirupati > YES %: [75.0]\n",
      "Faizabad > YES %: [100.0]\n",
      "Ambur > YES %: [50.0]\n",
      "Chandigarh > YES %: [60.0]\n",
      "Mysore > YES %: [100.0]\n",
      "Hissar > YES %: [100.0]\n",
      "Delhi > YES %: [100.0]\n",
      "Kanpur > YES %: [0.0]\n",
      "Lucknow > YES %: [100.0]\n",
      "- Cochin-  > YES %: [100.0]\n",
      "\n",
      "\n",
      "Permissiontostart\n",
      "\n",
      "\n",
      "yes > YES %: [75.29296875]\n",
      "no > YES %: [3.314917127071823]\n",
      "not yet > YES %: [15.789473684210526]\n",
      "yet to confirm > YES %: [0.0]\n",
      "na > YES %: [60.0]\n",
      "\n",
      "\n",
      "UnscheduleMeetings\n",
      "\n",
      "\n",
      "Yes > YES %: [70.60063224446786]\n",
      "Na > YES %: [15.0]\n",
      "No > YES %: [0.0]\n",
      "yes > YES %: [99.09909909909909]\n",
      "no > YES %: [0.0]\n",
      "Not Sure > YES %: [0.0]\n",
      "cant Say > YES %: [0.0]\n",
      "Not sure > YES %: [0.0]\n",
      "\n",
      "\n",
      "WalkinInterview\n",
      "\n",
      "\n",
      "Yes > YES %: [69.92639327024185]\n",
      "no > YES %: [0.0]\n",
      "No > YES %: [40.0]\n",
      "yes > YES %: [100.0]\n",
      "No Dont > YES %: [100.0]\n",
      "Na > YES %: [15.0]\n",
      "\n",
      "\n",
      "AllContacts\n",
      "\n",
      "\n",
      "Yes > YES %: [71.04700854700855]\n",
      "no > YES %: [0.0]\n",
      "No > YES %: [29.629629629629626]\n",
      "No I have only thi number > YES %: [0.0]\n",
      "yes > YES %: [100.0]\n",
      "na > YES %: [0.0]\n",
      "Na > YES %: [15.789473684210526]\n",
      "\n",
      "\n",
      "RequiredMaterials\n",
      "\n",
      "\n",
      "Yes > YES %: [71.06382978723404]\n",
      "no > YES %: [0.0]\n",
      "No > YES %: [12.5]\n",
      "No- will take it soon > YES %: [0.0]\n",
      "yes > YES %: [100.0]\n",
      "Not yet > YES %: [50.0]\n",
      "na > YES %: [0.0]\n",
      "Na > YES %: [15.789473684210526]\n",
      "Not Yet > YES %: [0.0]\n",
      "\n",
      "\n",
      "ClearInfo\n",
      "\n",
      "\n",
      "Yes > YES %: [70.61310782241014]\n",
      "no > YES %: [0.7042253521126761]\n",
      "No > YES %: [7.142857142857142]\n",
      "No- I need to check > YES %: [50.0]\n",
      "yes > YES %: [100.0]\n",
      "na > YES %: [0.0]\n",
      "Na > YES %: [15.789473684210526]\n",
      "\n",
      "\n",
      "CallLetter\n",
      "\n",
      "\n",
      "Yes > YES %: [71.45922746781116]\n",
      "no > YES %: [0.7142857142857143]\n",
      "Havent Checked > YES %: [100.0]\n",
      "No > YES %: [11.76470588235294]\n",
      "Need To Check > YES %: [0.0]\n",
      "Not sure > YES %: [100.0]\n",
      "Yet to Check > YES %: [100.0]\n",
      "Not Sure > YES %: [0.0]\n",
      "yes > YES %: [100.0]\n",
      "Not yet > YES %: [0.0]\n",
      "na > YES %: [0.0]\n",
      "Na > YES %: [15.789473684210526]\n",
      "\n",
      "\n",
      "OA\n",
      "\n",
      "\n",
      "no > YES %: [0.0]\n",
      "yes > YES %: [100.0]\n",
      "\n",
      "\n",
      "MS\n",
      "\n",
      "\n",
      "Single > YES %: [64.27640156453715]\n",
      "Married > YES %: [62.231759656652365]\n",
      "\n",
      "\n"
     ]
    }
   ],
   "source": [
    "x=df1.columns.unique()\n",
    "list(x)\n",
    "for i in x:\n",
    "    print(i)\n",
    "    print(\"\\n\")\n",
    "#     print(df1[i].unique())\n",
    "    y=df1[i].unique()\n",
    "    for j in y:\n",
    "#         print(j)        \n",
    "        yes=[(df1[(df1[i]==j) & (df1.OA==\"yes\")].shape[0]/df1[df1[i]==j].shape[0])*100]\n",
    "        print(j,\"> YES %:\",yes)\n",
    "    print(\"\\n\")\n",
    "#     yes=(df1[(df1.Industry==\"IT\") & (df1.OA==\"yes\")].shape[0]/df1[df1.Industry==\"IT\"].shape[0])*100\n",
    "    \n",
    "# df[\"DoI\"].unique()"
   ]
  },
  {
   "cell_type": "code",
   "execution_count": 28,
   "metadata": {
    "scrolled": true
   },
   "outputs": [
    {
     "data": {
      "text/plain": [
       "yes               1024\n",
       "no                 181\n",
       "not yet             19\n",
       "na                   5\n",
       "yet to confirm       4\n",
       "Name: Permissiontostart, dtype: int64"
      ]
     },
     "execution_count": 28,
     "metadata": {},
     "output_type": "execute_result"
    }
   ],
   "source": [
    "df1.Permissiontostart.value_counts()"
   ]
  },
  {
   "cell_type": "code",
   "execution_count": 29,
   "metadata": {},
   "outputs": [
    {
     "data": {
      "text/plain": [
       "yes               1024\n",
       "no                 181\n",
       "yet to confirm      23\n",
       "na                   5\n",
       "Name: Permissiontostart, dtype: int64"
      ]
     },
     "execution_count": 29,
     "metadata": {},
     "output_type": "execute_result"
    }
   ],
   "source": [
    "df1.Permissiontostart=df1.Permissiontostart.str.replace(\"not yet\",\"yet to confirm\")\n",
    "df1.Permissiontostart.value_counts(dropna=False)"
   ]
  },
  {
   "cell_type": "code",
   "execution_count": 30,
   "metadata": {},
   "outputs": [
    {
     "data": {
      "text/plain": [
       "yes    1060\n",
       "no      153\n",
       "na       20\n",
       "Name: UnscheduleMeetings, dtype: int64"
      ]
     },
     "execution_count": 30,
     "metadata": {},
     "output_type": "execute_result"
    }
   ],
   "source": [
    "df1.UnscheduleMeetings=df1.UnscheduleMeetings.str.lower()\n",
    "df1.UnscheduleMeetings=df1.UnscheduleMeetings.str.replace(\"cant say\",\"no\")\n",
    "df1.UnscheduleMeetings=df1.UnscheduleMeetings.str.replace(\"not sure\",\"no\")\n",
    "df1.UnscheduleMeetings.value_counts(dropna=False)"
   ]
  },
  {
   "cell_type": "code",
   "execution_count": 31,
   "metadata": {},
   "outputs": [
    {
     "data": {
      "text/plain": [
       "yes        1061\n",
       "no          151\n",
       "na           20\n",
       "no dont       1\n",
       "Name: WalkinInterview, dtype: int64"
      ]
     },
     "execution_count": 31,
     "metadata": {},
     "output_type": "execute_result"
    }
   ],
   "source": [
    "df1.WalkinInterview=df1.WalkinInterview.str.lower()\n",
    "df1.WalkinInterview.value_counts(dropna=False)"
   ]
  },
  {
   "cell_type": "code",
   "execution_count": 32,
   "metadata": {
    "scrolled": true
   },
   "outputs": [
    {
     "name": "stderr",
     "output_type": "stream",
     "text": [
      "E:\\ANACONDA\\lib\\site-packages\\ipykernel_launcher.py:1: UserWarning: Boolean Series key will be reindexed to match DataFrame index.\n",
      "  \"\"\"Entry point for launching an IPython kernel.\n"
     ]
    },
    {
     "data": {
      "text/plain": [
       "0"
      ]
     },
     "execution_count": 32,
     "metadata": {},
     "output_type": "execute_result"
    }
   ],
   "source": [
    "df1[df1.WalkinInterview.isnull()][df1.OA==\"yes\"].shape[0]"
   ]
  },
  {
   "cell_type": "code",
   "execution_count": 33,
   "metadata": {},
   "outputs": [
    {
     "data": {
      "text/plain": [
       "yes    1043\n",
       "no      170\n",
       "na       20\n",
       "Name: AllContacts, dtype: int64"
      ]
     },
     "execution_count": 33,
     "metadata": {},
     "output_type": "execute_result"
    }
   ],
   "source": [
    "df1.AllContacts=df1.AllContacts.str.lower()\n",
    "df1.AllContacts=df1.AllContacts.str.replace(\"no i have only thi number\",\"no\")\n",
    "df1.AllContacts.value_counts(dropna=False)"
   ]
  },
  {
   "cell_type": "code",
   "execution_count": 34,
   "metadata": {
    "scrolled": false
   },
   "outputs": [
    {
     "data": {
      "text/plain": [
       "yes                      1049\n",
       "no                        157\n",
       "na                         20\n",
       "not yet                     6\n",
       "no- will take it soon       1\n",
       "Name: RequiredMaterials, dtype: int64"
      ]
     },
     "execution_count": 34,
     "metadata": {},
     "output_type": "execute_result"
    }
   ],
   "source": [
    "df1.RequiredMaterials=df1.RequiredMaterials.str.lower()\n",
    "df1.RequiredMaterials.value_counts(dropna=False)"
   ]
  },
  {
   "cell_type": "code",
   "execution_count": 35,
   "metadata": {},
   "outputs": [
    {
     "data": {
      "text/plain": [
       "yes        1049\n",
       "no          158\n",
       "not yet      26\n",
       "Name: RequiredMaterials, dtype: int64"
      ]
     },
     "execution_count": 35,
     "metadata": {},
     "output_type": "execute_result"
    }
   ],
   "source": [
    "df1.RequiredMaterials=df1.RequiredMaterials.str.replace(\"na\",\"not yet\")\n",
    "df1.RequiredMaterials=df1.RequiredMaterials.str.replace(\"no- will take it soon\",\"no\")\n",
    "df1.RequiredMaterials.value_counts()"
   ]
  },
  {
   "cell_type": "code",
   "execution_count": 36,
   "metadata": {},
   "outputs": [
    {
     "data": {
      "text/plain": [
       "yes                    1055\n",
       "no                      156\n",
       "na                       20\n",
       "no- i need to check       2\n",
       "Name: ClearInfo, dtype: int64"
      ]
     },
     "execution_count": 36,
     "metadata": {},
     "output_type": "execute_result"
    }
   ],
   "source": [
    "df1.ClearInfo=df1.ClearInfo.str.lower()\n",
    "df1.ClearInfo.value_counts(dropna=False)"
   ]
  },
  {
   "cell_type": "code",
   "execution_count": 37,
   "metadata": {},
   "outputs": [
    {
     "data": {
      "text/plain": [
       "yes                    1055\n",
       "no                      156\n",
       "na                       20\n",
       "no- i need to check       2\n",
       "Name: ClearInfo, dtype: int64"
      ]
     },
     "execution_count": 37,
     "metadata": {},
     "output_type": "execute_result"
    }
   ],
   "source": [
    "df1.ClearInfo=df1.ClearInfo.fillna(value=\"no\")\n",
    "df1.ClearInfo.value_counts()"
   ]
  },
  {
   "cell_type": "code",
   "execution_count": 38,
   "metadata": {},
   "outputs": [
    {
     "data": {
      "text/plain": [
       "yes    1055\n",
       "no      158\n",
       "na       20\n",
       "Name: ClearInfo, dtype: int64"
      ]
     },
     "execution_count": 38,
     "metadata": {},
     "output_type": "execute_result"
    }
   ],
   "source": [
    "# df1.ClearInfo=df1.ClearInfo.str.replace(\"na\",\"no\")\n",
    "df1.ClearInfo=df1.ClearInfo.str.replace(\"no- i need to check\",\"no\")\n",
    "df1.ClearInfo.value_counts()"
   ]
  },
  {
   "cell_type": "code",
   "execution_count": 39,
   "metadata": {},
   "outputs": [
    {
     "data": {
      "text/plain": [
       "Index(['Name', 'Industry', 'Location', 'Position', 'InterviewType', 'Gender',\n",
       "       'CL', 'JL', 'Venue', 'NativeLocation', 'Permissiontostart',\n",
       "       'UnscheduleMeetings', 'WalkinInterview', 'AllContacts',\n",
       "       'RequiredMaterials', 'ClearInfo', 'CallLetter', 'OA', 'MS'],\n",
       "      dtype='object')"
      ]
     },
     "execution_count": 39,
     "metadata": {},
     "output_type": "execute_result"
    }
   ],
   "source": [
    "df1.columns"
   ]
  },
  {
   "cell_type": "code",
   "execution_count": 40,
   "metadata": {},
   "outputs": [],
   "source": [
    "# CL\n",
    "df1[\"CL\"]=df1.CL.str.lower()\n",
    "df1[\"CL\"]=df1.CL.str.rstrip()\n",
    "df1[\"CL\"]=df1.CL.str.replace(\"- cochin-\",\"cochin\")\n",
    "\n",
    "\n",
    "# JL (Job Location)\n",
    "df1[\"JL\"]=df1.JL.str.lower()\n",
    "df1[\"JL\"]=df1.JL.str.replace(\"- cochin-\",\"cochin\")\n",
    "\n",
    "# Venue\n",
    "df1[\"Venue\"]=df.Venue.str.lower()\n",
    "df1[\"Venue\"]=df.Venue.str.replace(\"- cochin-\",\"cochin\")"
   ]
  },
  {
   "cell_type": "code",
   "execution_count": 41,
   "metadata": {},
   "outputs": [
    {
     "data": {
      "text/plain": [
       "standard_chartered_bank    921\n",
       "hospira                     75\n",
       "pfizer                      75\n",
       "aon_hewitt                  30\n",
       "flextronics                 23\n",
       "anz                         22\n",
       "hewitt                      20\n",
       "ust                         18\n",
       "prodapt                     17\n",
       "astrazeneca                 15\n",
       "williams_lea                11\n",
       "barclays                     5\n",
       "woori_bank                   1\n",
       "Name: Name, dtype: int64"
      ]
     },
     "execution_count": 41,
     "metadata": {},
     "output_type": "execute_result"
    }
   ],
   "source": [
    "df1.Name=df1.Name.str.lower()\n",
    "df1.Name=df1.Name.str.replace(\" \",\"_\")\n",
    "df1.Name=df1.Name.str.replace(\"standard_chartered_bank_chennai\",\"standard_chartered_bank\")\n",
    "df1.Name=df1.Name.str.replace(\"aon_hewitt_gurgaon\",\"aon_hewitt\")\n",
    "df1.Name.value_counts()"
   ]
  },
  {
   "cell_type": "code",
   "execution_count": 42,
   "metadata": {},
   "outputs": [],
   "source": [
    "piadf=df1.drop([\"Industry\",\"Location\",\"Position\",\"InterviewType\",\n",
    "                \"Gender\",\"NativeLocation\",\"WalkinInterview\",\"CallLetter\",\"MS\"], axis=1)"
   ]
  },
  {
   "cell_type": "code",
   "execution_count": 43,
   "metadata": {},
   "outputs": [
    {
     "data": {
      "text/html": [
       "<div>\n",
       "<style scoped>\n",
       "    .dataframe tbody tr th:only-of-type {\n",
       "        vertical-align: middle;\n",
       "    }\n",
       "\n",
       "    .dataframe tbody tr th {\n",
       "        vertical-align: top;\n",
       "    }\n",
       "\n",
       "    .dataframe thead th {\n",
       "        text-align: right;\n",
       "    }\n",
       "</style>\n",
       "<table border=\"1\" class=\"dataframe\">\n",
       "  <thead>\n",
       "    <tr style=\"text-align: right;\">\n",
       "      <th></th>\n",
       "      <th>Name</th>\n",
       "      <th>CL</th>\n",
       "      <th>JL</th>\n",
       "      <th>Venue</th>\n",
       "      <th>Permissiontostart</th>\n",
       "      <th>UnscheduleMeetings</th>\n",
       "      <th>AllContacts</th>\n",
       "      <th>RequiredMaterials</th>\n",
       "      <th>ClearInfo</th>\n",
       "      <th>OA</th>\n",
       "    </tr>\n",
       "  </thead>\n",
       "  <tbody>\n",
       "    <tr>\n",
       "      <th>0</th>\n",
       "      <td>hospira</td>\n",
       "      <td>chennai</td>\n",
       "      <td>hosur</td>\n",
       "      <td>Hosur</td>\n",
       "      <td>yes</td>\n",
       "      <td>yes</td>\n",
       "      <td>yes</td>\n",
       "      <td>yes</td>\n",
       "      <td>yes</td>\n",
       "      <td>no</td>\n",
       "    </tr>\n",
       "    <tr>\n",
       "      <th>1</th>\n",
       "      <td>hospira</td>\n",
       "      <td>chennai</td>\n",
       "      <td>bangalore</td>\n",
       "      <td>Hosur</td>\n",
       "      <td>yes</td>\n",
       "      <td>yes</td>\n",
       "      <td>yes</td>\n",
       "      <td>yes</td>\n",
       "      <td>yes</td>\n",
       "      <td>no</td>\n",
       "    </tr>\n",
       "    <tr>\n",
       "      <th>2</th>\n",
       "      <td>hospira</td>\n",
       "      <td>chennai</td>\n",
       "      <td>chennai</td>\n",
       "      <td>Hosur</td>\n",
       "      <td>no</td>\n",
       "      <td>na</td>\n",
       "      <td>no</td>\n",
       "      <td>no</td>\n",
       "      <td>no</td>\n",
       "      <td>no</td>\n",
       "    </tr>\n",
       "    <tr>\n",
       "      <th>3</th>\n",
       "      <td>hospira</td>\n",
       "      <td>chennai</td>\n",
       "      <td>chennai</td>\n",
       "      <td>Hosur</td>\n",
       "      <td>yes</td>\n",
       "      <td>yes</td>\n",
       "      <td>yes</td>\n",
       "      <td>no</td>\n",
       "      <td>yes</td>\n",
       "      <td>no</td>\n",
       "    </tr>\n",
       "    <tr>\n",
       "      <th>4</th>\n",
       "      <td>hospira</td>\n",
       "      <td>chennai</td>\n",
       "      <td>bangalore</td>\n",
       "      <td>Hosur</td>\n",
       "      <td>yes</td>\n",
       "      <td>yes</td>\n",
       "      <td>no</td>\n",
       "      <td>yes</td>\n",
       "      <td>yes</td>\n",
       "      <td>no</td>\n",
       "    </tr>\n",
       "  </tbody>\n",
       "</table>\n",
       "</div>"
      ],
      "text/plain": [
       "      Name       CL         JL  Venue Permissiontostart UnscheduleMeetings  \\\n",
       "0  hospira  chennai      hosur  Hosur               yes                yes   \n",
       "1  hospira  chennai  bangalore  Hosur               yes                yes   \n",
       "2  hospira  chennai    chennai  Hosur                no                 na   \n",
       "3  hospira  chennai    chennai  Hosur               yes                yes   \n",
       "4  hospira  chennai  bangalore  Hosur               yes                yes   \n",
       "\n",
       "  AllContacts RequiredMaterials ClearInfo  OA  \n",
       "0         yes               yes       yes  no  \n",
       "1         yes               yes       yes  no  \n",
       "2          no                no        no  no  \n",
       "3         yes                no       yes  no  \n",
       "4          no               yes       yes  no  "
      ]
     },
     "execution_count": 43,
     "metadata": {},
     "output_type": "execute_result"
    }
   ],
   "source": [
    "piadf.head()"
   ]
  },
  {
   "cell_type": "code",
   "execution_count": 44,
   "metadata": {},
   "outputs": [
    {
     "data": {
      "text/plain": [
       "(1233, 10)"
      ]
     },
     "execution_count": 44,
     "metadata": {},
     "output_type": "execute_result"
    }
   ],
   "source": [
    "piadf.shape"
   ]
  },
  {
   "cell_type": "code",
   "execution_count": 45,
   "metadata": {},
   "outputs": [],
   "source": [
    "from sklearn.preprocessing import LabelEncoder\n",
    "x=piadf.columns\n",
    "x=list(x)\n",
    "encoder = LabelEncoder()\n",
    "for i in x:\n",
    "    value = piadf[i]\n",
    "    value_encoded = encoder.fit_transform(value)\n",
    "    piadf[i]=value_encoded"
   ]
  },
  {
   "cell_type": "code",
   "execution_count": 46,
   "metadata": {},
   "outputs": [
    {
     "data": {
      "text/html": [
       "<div>\n",
       "<style scoped>\n",
       "    .dataframe tbody tr th:only-of-type {\n",
       "        vertical-align: middle;\n",
       "    }\n",
       "\n",
       "    .dataframe tbody tr th {\n",
       "        vertical-align: top;\n",
       "    }\n",
       "\n",
       "    .dataframe thead th {\n",
       "        text-align: right;\n",
       "    }\n",
       "</style>\n",
       "<table border=\"1\" class=\"dataframe\">\n",
       "  <thead>\n",
       "    <tr style=\"text-align: right;\">\n",
       "      <th></th>\n",
       "      <th>Name</th>\n",
       "      <th>CL</th>\n",
       "      <th>JL</th>\n",
       "      <th>Venue</th>\n",
       "      <th>Permissiontostart</th>\n",
       "      <th>UnscheduleMeetings</th>\n",
       "      <th>AllContacts</th>\n",
       "      <th>RequiredMaterials</th>\n",
       "      <th>ClearInfo</th>\n",
       "      <th>OA</th>\n",
       "    </tr>\n",
       "  </thead>\n",
       "  <tbody>\n",
       "    <tr>\n",
       "      <th>0</th>\n",
       "      <td>6</td>\n",
       "      <td>1</td>\n",
       "      <td>4</td>\n",
       "      <td>4</td>\n",
       "      <td>2</td>\n",
       "      <td>2</td>\n",
       "      <td>2</td>\n",
       "      <td>2</td>\n",
       "      <td>2</td>\n",
       "      <td>0</td>\n",
       "    </tr>\n",
       "    <tr>\n",
       "      <th>1</th>\n",
       "      <td>6</td>\n",
       "      <td>1</td>\n",
       "      <td>0</td>\n",
       "      <td>4</td>\n",
       "      <td>2</td>\n",
       "      <td>2</td>\n",
       "      <td>2</td>\n",
       "      <td>2</td>\n",
       "      <td>2</td>\n",
       "      <td>0</td>\n",
       "    </tr>\n",
       "    <tr>\n",
       "      <th>2</th>\n",
       "      <td>6</td>\n",
       "      <td>1</td>\n",
       "      <td>1</td>\n",
       "      <td>4</td>\n",
       "      <td>1</td>\n",
       "      <td>0</td>\n",
       "      <td>1</td>\n",
       "      <td>0</td>\n",
       "      <td>1</td>\n",
       "      <td>0</td>\n",
       "    </tr>\n",
       "    <tr>\n",
       "      <th>3</th>\n",
       "      <td>6</td>\n",
       "      <td>1</td>\n",
       "      <td>1</td>\n",
       "      <td>4</td>\n",
       "      <td>2</td>\n",
       "      <td>2</td>\n",
       "      <td>2</td>\n",
       "      <td>0</td>\n",
       "      <td>2</td>\n",
       "      <td>0</td>\n",
       "    </tr>\n",
       "    <tr>\n",
       "      <th>4</th>\n",
       "      <td>6</td>\n",
       "      <td>1</td>\n",
       "      <td>0</td>\n",
       "      <td>4</td>\n",
       "      <td>2</td>\n",
       "      <td>2</td>\n",
       "      <td>1</td>\n",
       "      <td>2</td>\n",
       "      <td>2</td>\n",
       "      <td>0</td>\n",
       "    </tr>\n",
       "  </tbody>\n",
       "</table>\n",
       "</div>"
      ],
      "text/plain": [
       "   Name  CL  JL  Venue  Permissiontostart  UnscheduleMeetings  AllContacts  \\\n",
       "0     6   1   4      4                  2                   2            2   \n",
       "1     6   1   0      4                  2                   2            2   \n",
       "2     6   1   1      4                  1                   0            1   \n",
       "3     6   1   1      4                  2                   2            2   \n",
       "4     6   1   0      4                  2                   2            1   \n",
       "\n",
       "   RequiredMaterials  ClearInfo  OA  \n",
       "0                  2          2   0  \n",
       "1                  2          2   0  \n",
       "2                  0          1   0  \n",
       "3                  0          2   0  \n",
       "4                  2          2   0  "
      ]
     },
     "execution_count": 46,
     "metadata": {},
     "output_type": "execute_result"
    }
   ],
   "source": [
    "piadf.head()"
   ]
  },
  {
   "cell_type": "code",
   "execution_count": 47,
   "metadata": {},
   "outputs": [],
   "source": [
    "from sklearn import linear_model\n",
    "from sklearn import model_selection\n",
    "from sklearn import utils\n",
    "from sklearn import metrics\n",
    "from sklearn import tree\n",
    "from sklearn.feature_selection import RFECV\n",
    "from sklearn import feature_selection\n",
    "from sklearn import naive_bayes\n",
    "from sklearn import neighbors\n",
    "\n",
    "def modelstats1(Xtrain,Xtest,ytrain,ytest):\n",
    "    stats=[]\n",
    "    modelnames=[\"LR\",\"DecisionTree\",\"KNN\",\"NB\"]\n",
    "    models=list()\n",
    "    models.append(linear_model.LogisticRegression())\n",
    "    models.append(tree.DecisionTreeClassifier())\n",
    "    models.append(neighbors.KNeighborsClassifier())\n",
    "    models.append(naive_bayes.GaussianNB())\n",
    "    for name,model in zip(modelnames,models):\n",
    "        if name==\"KNN\":\n",
    "            k=[l for l in range(5,17,2)]\n",
    "            grid={\"n_neighbors\":k}\n",
    "            grid_obj = model_selection.GridSearchCV(estimator=model,param_grid=grid,scoring=\"f1\")\n",
    "            grid_fit =grid_obj.fit(Xtrain,ytrain)\n",
    "            model = grid_fit.best_estimator_\n",
    "            model.fit(Xtrain,ytrain)\n",
    "            name=name+\"(\"+str(grid_fit.best_params_[\"n_neighbors\"])+\")\"\n",
    "            print(grid_fit.best_params_)\n",
    "        else:\n",
    "            model.fit(Xtrain,ytrain)\n",
    "        trainprediction=model.predict(Xtrain)\n",
    "        testprediction=model.predict(Xtest)\n",
    "        scores=list()\n",
    "        scores.append(name+\"-train\")\n",
    "        scores.append(metrics.accuracy_score(ytrain,trainprediction))\n",
    "        scores.append(metrics.precision_score(ytrain,trainprediction))\n",
    "        scores.append(metrics.recall_score(ytrain,trainprediction))\n",
    "        scores.append(metrics.roc_auc_score(ytrain,trainprediction))\n",
    "        stats.append(scores)\n",
    "        scores=list()\n",
    "        scores.append(name+\"-test\")\n",
    "        scores.append(metrics.accuracy_score(ytest,testprediction))\n",
    "        scores.append(metrics.precision_score(ytest,testprediction))\n",
    "        scores.append(metrics.recall_score(ytest,testprediction))\n",
    "        scores.append(metrics.roc_auc_score(ytest,testprediction))\n",
    "        stats.append(scores)\n",
    "    \n",
    "    colnames=[\"MODELNAME\",\"ACCURACY\",\"PRECISION\",\"RECALL\",\"AUC\"]\n",
    "    return pd.DataFrame(stats,columns=colnames)"
   ]
  },
  {
   "cell_type": "code",
   "execution_count": 48,
   "metadata": {},
   "outputs": [
    {
     "name": "stderr",
     "output_type": "stream",
     "text": [
      "E:\\ANACONDA\\lib\\site-packages\\sklearn\\linear_model\\logistic.py:433: FutureWarning: Default solver will be changed to 'lbfgs' in 0.22. Specify a solver to silence this warning.\n",
      "  FutureWarning)\n",
      "E:\\ANACONDA\\lib\\site-packages\\sklearn\\model_selection\\_split.py:2053: FutureWarning: You should specify a value for 'cv' instead of relying on the default value. The default value will change from 3 to 5 in version 0.22.\n",
      "  warnings.warn(CV_WARNING, FutureWarning)\n"
     ]
    },
    {
     "name": "stdout",
     "output_type": "stream",
     "text": [
      "{'n_neighbors': 5}\n"
     ]
    },
    {
     "data": {
      "text/html": [
       "<div>\n",
       "<style scoped>\n",
       "    .dataframe tbody tr th:only-of-type {\n",
       "        vertical-align: middle;\n",
       "    }\n",
       "\n",
       "    .dataframe tbody tr th {\n",
       "        vertical-align: top;\n",
       "    }\n",
       "\n",
       "    .dataframe thead th {\n",
       "        text-align: right;\n",
       "    }\n",
       "</style>\n",
       "<table border=\"1\" class=\"dataframe\">\n",
       "  <thead>\n",
       "    <tr style=\"text-align: right;\">\n",
       "      <th></th>\n",
       "      <th>MODELNAME</th>\n",
       "      <th>ACCURACY</th>\n",
       "      <th>PRECISION</th>\n",
       "      <th>RECALL</th>\n",
       "      <th>AUC</th>\n",
       "    </tr>\n",
       "  </thead>\n",
       "  <tbody>\n",
       "    <tr>\n",
       "      <th>0</th>\n",
       "      <td>LR-train</td>\n",
       "      <td>0.772901</td>\n",
       "      <td>0.739618</td>\n",
       "      <td>0.990977</td>\n",
       "      <td>0.692617</td>\n",
       "    </tr>\n",
       "    <tr>\n",
       "      <th>1</th>\n",
       "      <td>LR-test</td>\n",
       "      <td>0.789189</td>\n",
       "      <td>0.751592</td>\n",
       "      <td>1.000000</td>\n",
       "      <td>0.708955</td>\n",
       "    </tr>\n",
       "    <tr>\n",
       "      <th>2</th>\n",
       "      <td>DecisionTree-train</td>\n",
       "      <td>0.804389</td>\n",
       "      <td>0.773810</td>\n",
       "      <td>0.977444</td>\n",
       "      <td>0.740680</td>\n",
       "    </tr>\n",
       "    <tr>\n",
       "      <th>3</th>\n",
       "      <td>DecisionTree-test</td>\n",
       "      <td>0.821622</td>\n",
       "      <td>0.797203</td>\n",
       "      <td>0.966102</td>\n",
       "      <td>0.766633</td>\n",
       "    </tr>\n",
       "    <tr>\n",
       "      <th>4</th>\n",
       "      <td>KNN(5)-train</td>\n",
       "      <td>0.791985</td>\n",
       "      <td>0.755429</td>\n",
       "      <td>0.993985</td>\n",
       "      <td>0.717619</td>\n",
       "    </tr>\n",
       "    <tr>\n",
       "      <th>5</th>\n",
       "      <td>KNN(5)-test</td>\n",
       "      <td>0.778378</td>\n",
       "      <td>0.748387</td>\n",
       "      <td>0.983051</td>\n",
       "      <td>0.700481</td>\n",
       "    </tr>\n",
       "    <tr>\n",
       "      <th>6</th>\n",
       "      <td>NB-train</td>\n",
       "      <td>0.790076</td>\n",
       "      <td>0.762073</td>\n",
       "      <td>0.972932</td>\n",
       "      <td>0.722759</td>\n",
       "    </tr>\n",
       "    <tr>\n",
       "      <th>7</th>\n",
       "      <td>NB-test</td>\n",
       "      <td>0.805405</td>\n",
       "      <td>0.780822</td>\n",
       "      <td>0.966102</td>\n",
       "      <td>0.744245</td>\n",
       "    </tr>\n",
       "  </tbody>\n",
       "</table>\n",
       "</div>"
      ],
      "text/plain": [
       "            MODELNAME  ACCURACY  PRECISION    RECALL       AUC\n",
       "0            LR-train  0.772901   0.739618  0.990977  0.692617\n",
       "1             LR-test  0.789189   0.751592  1.000000  0.708955\n",
       "2  DecisionTree-train  0.804389   0.773810  0.977444  0.740680\n",
       "3   DecisionTree-test  0.821622   0.797203  0.966102  0.766633\n",
       "4        KNN(5)-train  0.791985   0.755429  0.993985  0.717619\n",
       "5         KNN(5)-test  0.778378   0.748387  0.983051  0.700481\n",
       "6            NB-train  0.790076   0.762073  0.972932  0.722759\n",
       "7             NB-test  0.805405   0.780822  0.966102  0.744245"
      ]
     },
     "execution_count": 48,
     "metadata": {},
     "output_type": "execute_result"
    }
   ],
   "source": [
    "X=piadf.drop(\"OA\",axis=1)\n",
    "y=piadf[\"OA\"]\n",
    "Xtrain,Xtest,ytrain,ytest=model_selection.train_test_split(X,y,test_size=.15,random_state=42)\n",
    "modelstats1(Xtrain,Xtest,ytrain,ytest)"
   ]
  },
  {
   "cell_type": "code",
   "execution_count": 49,
   "metadata": {},
   "outputs": [],
   "source": [
    "model=tree.DecisionTreeClassifier(random_state=42)\n",
    "testdepth=list(range(3,20))\n",
    "paramgrid={\"max_depth\":testdepth}\n",
    "gridobj=model_selection.GridSearchCV(model,paramgrid,scoring=\"precision\")"
   ]
  },
  {
   "cell_type": "code",
   "execution_count": 50,
   "metadata": {},
   "outputs": [
    {
     "name": "stderr",
     "output_type": "stream",
     "text": [
      "E:\\ANACONDA\\lib\\site-packages\\sklearn\\model_selection\\_split.py:2053: FutureWarning: You should specify a value for 'cv' instead of relying on the default value. The default value will change from 3 to 5 in version 0.22.\n",
      "  warnings.warn(CV_WARNING, FutureWarning)\n"
     ]
    },
    {
     "data": {
      "text/plain": [
       "GridSearchCV(cv='warn', error_score='raise-deprecating',\n",
       "       estimator=DecisionTreeClassifier(class_weight=None, criterion='gini', max_depth=None,\n",
       "            max_features=None, max_leaf_nodes=None,\n",
       "            min_impurity_decrease=0.0, min_impurity_split=None,\n",
       "            min_samples_leaf=1, min_samples_split=2,\n",
       "            min_weight_fraction_leaf=0.0, presort=False, random_state=42,\n",
       "            splitter='best'),\n",
       "       fit_params=None, iid='warn', n_jobs=None,\n",
       "       param_grid={'max_depth': [3, 4, 5, 6, 7, 8, 9, 10, 11, 12, 13, 14, 15, 16, 17, 18, 19]},\n",
       "       pre_dispatch='2*n_jobs', refit=True, return_train_score='warn',\n",
       "       scoring='precision', verbose=0)"
      ]
     },
     "execution_count": 50,
     "metadata": {},
     "output_type": "execute_result"
    }
   ],
   "source": [
    "gridobj.fit(X,y)"
   ]
  },
  {
   "cell_type": "code",
   "execution_count": 51,
   "metadata": {},
   "outputs": [
    {
     "data": {
      "text/plain": [
       "{'max_depth': 12}"
      ]
     },
     "execution_count": 51,
     "metadata": {},
     "output_type": "execute_result"
    }
   ],
   "source": [
    "gridobj.best_params_"
   ]
  },
  {
   "cell_type": "code",
   "execution_count": 52,
   "metadata": {},
   "outputs": [
    {
     "data": {
      "text/plain": [
       "0.7515832896328444"
      ]
     },
     "execution_count": 52,
     "metadata": {},
     "output_type": "execute_result"
    }
   ],
   "source": [
    "gridobj.best_score_"
   ]
  },
  {
   "cell_type": "code",
   "execution_count": 53,
   "metadata": {},
   "outputs": [],
   "source": [
    "def printscores(ytest,predicted):\n",
    "    confmatrix=metrics.confusion_matrix(ytest,predicted)\n",
    "    print(\"Confusion matrix:\\n\",confmatrix)\n",
    "    print(\"Accuracy:\\n\",metrics.accuracy_score(ytest,predicted))\n",
    "    print(\"Recall:\\n\",metrics.recall_score(ytest,predicted))\n",
    "    print(\"Precision:\\n\",metrics.precision_score(ytest,predicted))\n",
    "    print(\"Area under curve:\\n\",metrics.roc_auc_score(ytest,predicted))"
   ]
  },
  {
   "cell_type": "code",
   "execution_count": 54,
   "metadata": {},
   "outputs": [
    {
     "name": "stdout",
     "output_type": "stream",
     "text": [
      "Confusion matrix:\n",
      " [[ 47  44]\n",
      " [  2 154]]\n",
      "Accuracy:\n",
      " 0.8137651821862348\n",
      "Recall:\n",
      " 0.9871794871794872\n",
      "Precision:\n",
      " 0.7777777777777778\n",
      "Area under curve:\n",
      " 0.7518315018315018\n"
     ]
    }
   ],
   "source": [
    "Xtrain,Xtest,ytrain,ytest=model_selection.train_test_split(X,y,test_size=.2,random_state=42)\n",
    "model=tree.DecisionTreeClassifier(max_depth=12)\n",
    "model.fit(Xtrain,ytrain)\n",
    "prediction=model.predict(Xtest)\n",
    "\n",
    "printscores(ytest,prediction)"
   ]
  }
 ],
 "metadata": {
  "kernelspec": {
   "display_name": "Python 3",
   "language": "python",
   "name": "python3"
  },
  "language_info": {
   "codemirror_mode": {
    "name": "ipython",
    "version": 3
   },
   "file_extension": ".py",
   "mimetype": "text/x-python",
   "name": "python",
   "nbconvert_exporter": "python",
   "pygments_lexer": "ipython3",
   "version": "3.7.3"
  }
 },
 "nbformat": 4,
 "nbformat_minor": 2
}
